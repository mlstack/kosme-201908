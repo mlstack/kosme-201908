{
 "cells": [
  {
   "cell_type": "markdown",
   "metadata": {},
   "source": [
    "Real world examples – Resourcing Problem\n",
    "We’ll now look at 2 more real world examples.\n",
    "\n",
    "The first is a resourcing problem and the second is a blending problem.\n",
    "\n",
    "Resourcing Problem¶\n",
    "We’re consulting for a boutique car manufacturer, producing luxury cars.\n",
    "\n",
    "They run on one month (30 days) cycles, we have one cycle to show we can provide value.\n",
    "\n",
    "There is one robot, 2 engineers and one detailer in the factory. The detailer has some holiday off, so only has 21 days available.\n",
    "\n",
    "The 2 cars need different time with each resource:\n",
    "\n",
    "Robot time: Car A – 3 days; Car B – 4 days.\n",
    "\n",
    "Engineer time: Car A – 5 days; Car B – 6 days.\n",
    "\n",
    "Detailer time: Car A – 1.5 days; Car B – 3 days.\n",
    "\n",
    "Car A provides €30,000 profit, whilst Car B offers €45,000 profit.\n",
    "\n",
    "At the moment, they produce 4 of each cars per month, for €300,000 profit. Not bad at all, but we think we can do better for them.\n",
    "\n",
    "This can be modelled as follows:\n",
    "\n",
    "Maximise\n",
    "```\n",
    "Profit=30,000A+45,000B\n",
    "```\n",
    "\n",
    "Subject to:\n",
    "```\n",
    "A≥0\n",
    "B≥0\n",
    "3A+4B≤30\n",
    "5A+6B≤60\n",
    "1.5A+3B≤21\n",
    "```"
   ]
  },
  {
   "cell_type": "code",
   "execution_count": 3,
   "metadata": {},
   "outputs": [
    {
     "name": "stdout",
     "output_type": "stream",
     "text": [
      "Production of Car A = 2.0\n",
      "Production of Car B = 6.0\n",
      "330000.0\n"
     ]
    }
   ],
   "source": [
    "import pulp\n",
    "A = pulp.LpVariable('A', lowBound=0, cat='Integer')\n",
    "B = pulp.LpVariable('B', lowBound=0, cat='Integer')\n",
    "# Instantiate our problem class\n",
    "model = pulp.LpProblem(\"Profit maximising problem\", pulp.LpMaximize)\n",
    "\n",
    "# Unlike our previous problem, the decision variables in this case won’t be continuous (We can’t sell half a car!), so the category is integer.\n",
    "\n",
    "A = pulp.LpVariable('A', lowBound=0, cat='Integer')\n",
    "B = pulp.LpVariable('B', lowBound=0, cat='Integer')\n",
    "\n",
    "\n",
    "# Objective function\n",
    "model += 30000 * A + 45000 * B, \"Profit\"\n",
    "\n",
    "# Constraints\n",
    "model += 3 * A + 4 * B <= 30\n",
    "model += 5 * A + 6 * B <= 60\n",
    "model += 1.5 * A + 3 * B <= 21\n",
    "\n",
    "# Solve our problem\n",
    "model.solve()\n",
    "pulp.LpStatus[model.status]\n",
    "\n",
    "# Print our decision variable values\n",
    "print(\"Production of Car A = {}\".format(A.varValue))\n",
    "print(\"Production of Car B = {}\".format(B.varValue))\n",
    "\n",
    "# Print our objective function value\n",
    "print(pulp.value(model.objective))"
   ]
  },
  {
   "cell_type": "code",
   "execution_count": null,
   "metadata": {},
   "outputs": [],
   "source": []
  }
 ],
 "metadata": {
  "kernelspec": {
   "display_name": "Python 3",
   "language": "python",
   "name": "python3"
  },
  "language_info": {
   "codemirror_mode": {
    "name": "ipython",
    "version": 3
   },
   "file_extension": ".py",
   "mimetype": "text/x-python",
   "name": "python",
   "nbconvert_exporter": "python",
   "pygments_lexer": "ipython3",
   "version": "3.6.8"
  }
 },
 "nbformat": 4,
 "nbformat_minor": 2
}

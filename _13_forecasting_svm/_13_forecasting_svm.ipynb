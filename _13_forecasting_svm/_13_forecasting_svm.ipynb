{
 "cells": [
  {
   "cell_type": "markdown",
   "metadata": {},
   "source": [
    "```\n",
    "[Title] Demand Forecasting using SVM\n",
    "[Author] Yibeck Lee(yibec.Lee@gmail.com)\n",
    "[Contents] \n",
    " - SVM for Demand Forecasting\n",
    "```"
   ]
  },
  {
   "cell_type": "code",
   "execution_count": null,
   "metadata": {
    "scrolled": false
   },
   "outputs": [
    {
     "name": "stderr",
     "output_type": "stream",
     "text": [
      "C:\\Apps\\Anaconda3\\lib\\site-packages\\ipykernel_launcher.py:19: FutureWarning: Method .as_matrix will be removed in a future version. Use .values instead.\n"
     ]
    },
    {
     "name": "stdout",
     "output_type": "stream",
     "text": [
      "int32\n"
     ]
    }
   ],
   "source": [
    "%matplotlib inline\n",
    "import pandas as pd\n",
    "import numpy as np\n",
    "import matplotlib.pyplot as plt\n",
    "from sklearn.svm import SVR\n",
    "\n",
    "from sklearn.metrics import accuracy_score\n",
    "\n",
    "np.set_printoptions(linewidth=400)    # screen size\n",
    "\n",
    "np.set_printoptions(threshold=np.inf) # print all numpy output\n",
    "\n",
    "dfTrain = pd.read_csv(\"../data_source/data01-train.csv\",header=None)\n",
    "\n",
    "dfTest = pd.read_csv(\"../data_source/data01-test.csv\",header=None)\n",
    "\n",
    "# print(dfTrain[0:10])\n",
    "\n",
    "arrTrain = dfTrain.as_matrix().astype(int)\n",
    "\n",
    "# print(arrTrain[0:10])\n",
    "\n",
    "# print(arrTrain.shape)\n",
    "\n",
    "\n",
    "\n",
    "# print(name_dtype)\n",
    "\n",
    "arrTrain = np.array(arrTrain)\n",
    "\n",
    "print(arrTrain.dtype)\n",
    "\n",
    "# print(np.unique(arrTrain[:,0])) # binary label \n",
    "\n",
    "numClass = np.unique(arrTrain[:,1]).size\n",
    "\n",
    "# print('numClass',numClass)\n",
    "\n",
    "labelTrain = arrTrain[:,0].astype(int) \n",
    "\n",
    "# print(labelTrain[0:100])\n",
    "\n",
    "# print('[labelTrain[0,1] : ', np.bincount(labelTrain)) # get frequency of [0,1]\n",
    "\n",
    "featuresTrain = arrTrain[:,2:]\n",
    "\n",
    "svr_lin = SVR(kernel='linear', C=1e3)\n",
    "pred_lin = svr_lin.fit(featuresTrain, labelTrain).predict(featuresTrain)"
   ]
  },
  {
   "cell_type": "code",
   "execution_count": null,
   "metadata": {},
   "outputs": [],
   "source": [
    "arrTest = dfTest.as_matrix().astype(int)\n",
    "labelTest = arrTest[:,0]\n",
    "featuresTest = arrTest[:,2:]\n",
    "predLabelTest = svr_lin.predict(featuresTest)\n",
    "# print(predLabelTest[:10])\n",
    "print(predLabelTest[0:10])\n",
    "print(labelTest[:10])"
   ]
  },
  {
   "cell_type": "code",
   "execution_count": 22,
   "metadata": {},
   "outputs": [
    {
     "name": "stderr",
     "output_type": "stream",
     "text": [
      "No handles with labels found to put in legend.\n"
     ]
    },
    {
     "data": {
      "image/png": "[encoded data removed]",
      "text/plain": [
       "<Figure size 432x288 with 1 Axes>"
      ]
     },
     "metadata": {
      "needs_background": "light"
     },
     "output_type": "display_data"
    }
   ],
   "source": [
    "plt.scatter(labelTrain[:10], pred_lin[:10], color='navy')\n",
    "plt.xlabel('data')\n",
    "plt.ylabel('target')\n",
    "plt.title('Support Vector Regression')\n",
    "plt.legend()\n",
    "plt.show()"
   ]
  },
  {
   "cell_type": "code",
   "execution_count": 18,
   "metadata": {},
   "outputs": [
    {
     "data": {
      "text/plain": [
       "2999.8098633634977"
      ]
     },
     "execution_count": 18,
     "metadata": {},
     "output_type": "execute_result"
    }
   ],
   "source": [
    "import sklearn\n",
    "sklearn.metrics.mean_absolute_error(labelTrain,pred_rbf)"
   ]
  },
  {
   "cell_type": "code",
   "execution_count": null,
   "metadata": {},
   "outputs": [],
   "source": [
    "# svr_poly = SVR(kernel='poly', C=1e3, degree=2)\n",
    "# pred_poly = svr_poly.fit(featuresTrain,featuresTrain).predict(featuresTrain)"
   ]
  },
  {
   "cell_type": "code",
   "execution_count": null,
   "metadata": {},
   "outputs": [],
   "source": [
    "svr_rbf = SVR(kernel='rbf', C=1e3, gamma=0.1)\n",
    "\n",
    "pred_rbf = svr_rbf.fit(featuresTrain, labelTrain).predict(featuresTrain)"
   ]
  }
 ],
 "metadata": {
  "kernelspec": {
   "display_name": "Python 3",
   "language": "python",
   "name": "python3"
  },
  "language_info": {
   "codemirror_mode": {
    "name": "ipython",
    "version": 3
   },
   "file_extension": ".py",
   "mimetype": "text/x-python",
   "name": "python",
   "nbconvert_exporter": "python",
   "pygments_lexer": "ipython3",
   "version": "3.6.8"
  }
 },
 "nbformat": 4,
 "nbformat_minor": 2
}

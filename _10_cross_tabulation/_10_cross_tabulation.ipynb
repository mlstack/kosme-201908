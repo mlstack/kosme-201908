{
 "cells": [
  {
   "cell_type": "markdown",
   "metadata": {},
   "source": [
    "```\n",
    "[Title] Cross Tabulation \n",
    "[Author] Yibeck Lee(yibec.Lee@gmail.com)\n",
    "[Contents] \n",
    " - Cross Tabulation(=Contingency Table) for WIP\n",
    "```"
   ]
  },
  {
   "cell_type": "code",
   "execution_count": 29,
   "metadata": {},
   "outputs": [
    {
     "data": {
      "text/plain": [
       "array([[2968.,  659., 3583.],\n",
       "       [   0., 2466.,  324.]])"
      ]
     },
     "execution_count": 29,
     "metadata": {},
     "output_type": "execute_result"
    }
   ],
   "source": [
    "%matplotlib inline\n",
    "import matplotlib.pyplot as plt\n",
    "import pandas as pd\n",
    "from pandasql import sqldf\n",
    "pysqldf = lambda q: sqldf(q, globals())\n",
    "\n",
    "df = pd.read_csv(\"../data_source/WIP_HISTORY.csv\")\n",
    "\n",
    "df1 = pysqldf(\"select GOOD_BAD, LINE, count(*) as FREQ from df group by GOOD_BAD, LINE ;\")\n",
    "pivotDf = df1.pivot(index='GOOD_BAD', columns='LINE')\n",
    "matrix = pivotDf.values\n",
    "matrix[1][0]=0\n",
    "matrix"
   ]
  },
  {
   "cell_type": "code",
   "execution_count": 30,
   "metadata": {},
   "outputs": [
    {
     "name": "stdout",
     "output_type": "stream",
     "text": [
      "[Chisquare] 5937.733917995892\n",
      "[p-value] 0.0\n",
      "[degree of freedom] 2\n",
      "[expected]\n",
      " [[2139.928 2253.125 2816.947]\n",
      " [ 828.072  871.875 1090.053]]\n"
     ]
    }
   ],
   "source": [
    "from scipy.stats import chi2_contingency\n",
    "chisquare, p_value, dof, expected = chi2_contingency(matrix)\n",
    "print('[Chisquare]', chisquare)\n",
    "print('[p-value]', p_value)\n",
    "print('[degree of freedom]', dof)\n",
    "print('[expected]\\n', expected)"
   ]
  },
  {
   "cell_type": "code",
   "execution_count": 31,
   "metadata": {},
   "outputs": [
    {
     "data": {
      "text/plain": [
       "array([[  828.072, -1594.125,   766.053],\n",
       "       [ -828.072,  1594.125,  -766.053]])"
      ]
     },
     "execution_count": 31,
     "metadata": {},
     "output_type": "execute_result"
    }
   ],
   "source": [
    "(matrix-expected)"
   ]
  },
  {
   "cell_type": "code",
   "execution_count": 32,
   "metadata": {},
   "outputs": [
    {
     "data": {
      "text/plain": [
       "array([[ 0.38696255, -0.70751734,  0.27194441],\n",
       "       [-1.        ,  1.8283871 , -0.70276675]])"
      ]
     },
     "execution_count": 32,
     "metadata": {},
     "output_type": "execute_result"
    }
   ],
   "source": [
    "(matrix-expected)/expected"
   ]
  },
  {
   "cell_type": "code",
   "execution_count": null,
   "metadata": {},
   "outputs": [],
   "source": []
  }
 ],
 "metadata": {
  "kernelspec": {
   "display_name": "Python 3",
   "language": "python",
   "name": "python3"
  },
  "language_info": {
   "codemirror_mode": {
    "name": "ipython",
    "version": 3
   },
   "file_extension": ".py",
   "mimetype": "text/x-python",
   "name": "python",
   "nbconvert_exporter": "python",
   "pygments_lexer": "ipython3",
   "version": "3.6.8"
  }
 },
 "nbformat": 4,
 "nbformat_minor": 2
}

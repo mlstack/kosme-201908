{
 "cells": [
  {
   "cell_type": "markdown",
   "metadata": {},
   "source": [
    "```\n",
    "[Title] Autoencoder using Tensorflow.Keras\n",
    "[Author] Yibeck Lee(yibec.Lee@gmail.com)\n",
    "[Contents]\n",
    " - Aucoencoder for Dimension Reduction\n",
    "[References]\n",
    " - https://towardsdatascience.com/pca-vs-autoencoders-1ba08362f450\n",
    " - https://medium.com/datadriveninvestor/deep-autoencoder-using-keras-b77cd3e8be95\n",
    "```"
   ]
  },
  {
   "cell_type": "code",
   "execution_count": 116,
   "metadata": {},
   "outputs": [],
   "source": [
    "from keras.layers import Input, Dense\n",
    "from keras.models import Model"
   ]
  },
  {
   "cell_type": "code",
   "execution_count": 117,
   "metadata": {},
   "outputs": [
    {
     "name": "stdout",
     "output_type": "stream",
     "text": [
      "[[1 1 1]\n",
      " [1 1 1]\n",
      " [1 1 1]\n",
      " [1 1 1]\n",
      " [1 2 3]\n",
      " [2 2 2]\n",
      " [2 2 2]\n",
      " [2 2 2]\n",
      " [2 2 2]\n",
      " [1 3 5]]\n"
     ]
    }
   ],
   "source": [
    "trainFeatures = np.array([\n",
    "  [1,1,1]\n",
    ", [1,1,1]\n",
    ", [1,1,1]\n",
    ", [1,1,1]\n",
    ", [1,2,3]\n",
    ", [2,2,2]\n",
    ", [2,2,2]\n",
    ", [2,2,2]\n",
    ", [2,2,2]\n",
    ", [1,3,5]\n",
    "])\n",
    "print(trainFeatures)"
   ]
  },
  {
   "cell_type": "code",
   "execution_count": 118,
   "metadata": {},
   "outputs": [],
   "source": [
    "encoding_dim = 2\n",
    "input_img = Input(shape=(3,))\n",
    "encoded = Dense(encoding_dim)(input_img)\n",
    "decoded = Dense(3)(encoded)\n",
    "autoencoder = Model(input_img, decoded)\n",
    "autoencoder.compile(optimizer='adadelta', loss='mse')"
   ]
  },
  {
   "cell_type": "code",
   "execution_count": 119,
   "metadata": {},
   "outputs": [
    {
     "data": {
      "text/plain": [
       "<keras.callbacks.History at 0x18840940>"
      ]
     },
     "execution_count": 119,
     "metadata": {},
     "output_type": "execute_result"
    }
   ],
   "source": [
    "autoencoder.fit(trainFeatures, trainFeatures,\n",
    "                epochs=100,\n",
    "                batch_size=2,\n",
    "                verbose=0,\n",
    "                shuffle=True)"
   ]
  },
  {
   "cell_type": "code",
   "execution_count": 120,
   "metadata": {},
   "outputs": [],
   "source": [
    "decoded_imgs = autoencoder.predict(trainFeatures)"
   ]
  },
  {
   "cell_type": "code",
   "execution_count": 121,
   "metadata": {},
   "outputs": [
    {
     "data": {
      "text/plain": [
       "array([[0.8230039, 0.8563012, 1.2121304],\n",
       "       [0.8230039, 0.8563012, 1.2121304],\n",
       "       [0.8230039, 0.8563012, 1.2121304],\n",
       "       [0.8230039, 0.8563012, 1.2121304],\n",
       "       [1.743476 , 2.1234775, 2.7361052],\n",
       "       [1.3603878, 1.9264278, 2.203387 ],\n",
       "       [1.3603878, 1.9264278, 2.203387 ],\n",
       "       [1.3603878, 1.9264278, 2.203387 ],\n",
       "       [1.3603878, 1.9264278, 2.203387 ],\n",
       "       [2.6639488, 3.390654 , 4.2600803]], dtype=float32)"
      ]
     },
     "execution_count": 121,
     "metadata": {},
     "output_type": "execute_result"
    }
   ],
   "source": [
    "decoded_imgs"
   ]
  },
  {
   "cell_type": "code",
   "execution_count": 122,
   "metadata": {},
   "outputs": [],
   "source": [
    "error = trainFeatures - decoded_imgs"
   ]
  },
  {
   "cell_type": "code",
   "execution_count": 123,
   "metadata": {},
   "outputs": [
    {
     "data": {
      "text/plain": [
       "array([[0.03132762, 0.02064935, 0.04499932],\n",
       "       [0.03132762, 0.02064935, 0.04499932],\n",
       "       [0.03132762, 0.02064935, 0.04499932],\n",
       "       [0.03132762, 0.02064935, 0.04499932],\n",
       "       [0.55275661, 0.01524668, 0.06964046],\n",
       "       [0.40910376, 0.00541286, 0.04136628],\n",
       "       [0.40910376, 0.00541286, 0.04136628],\n",
       "       [0.40910376, 0.00541286, 0.04136628],\n",
       "       [0.40910376, 0.00541286, 0.04136628],\n",
       "       [2.76872552, 0.15261062, 0.54748111]])"
      ]
     },
     "execution_count": 123,
     "metadata": {},
     "output_type": "execute_result"
    }
   ],
   "source": [
    "error_square = error**2\n",
    "error_square"
   ]
  },
  {
   "cell_type": "code",
   "execution_count": 124,
   "metadata": {},
   "outputs": [
    {
     "data": {
      "text/plain": [
       "array([0.09697629, 0.09697629, 0.09697629, 0.09697629, 0.63764376,\n",
       "       0.45588291, 0.45588291, 0.45588291, 0.45588291, 3.46881725])"
      ]
     },
     "execution_count": 124,
     "metadata": {},
     "output_type": "execute_result"
    }
   ],
   "source": [
    "error_square = np.sum(error_square, axis=1)\n",
    "error_square"
   ]
  },
  {
   "cell_type": "code",
   "execution_count": 126,
   "metadata": {},
   "outputs": [
    {
     "data": {
      "image/png": "[encoded data removed]",
      "text/plain": [
       "<Figure size 432x288 with 1 Axes>"
      ]
     },
     "metadata": {
      "needs_background": "light"
     },
     "output_type": "display_data"
    }
   ],
   "source": [
    "%matplotlib inline\n",
    "import matplotlib.pyplot as plt\n",
    "ind = np.arange(10) \n",
    "plt.bar(ind, error_square)\n",
    "plt.show()"
   ]
  },
  {
   "cell_type": "code",
   "execution_count": null,
   "metadata": {},
   "outputs": [],
   "source": []
  }
 ],
 "metadata": {
  "kernelspec": {
   "display_name": "Python 3",
   "language": "python",
   "name": "python3"
  },
  "language_info": {
   "codemirror_mode": {
    "name": "ipython",
    "version": 3
   },
   "file_extension": ".py",
   "mimetype": "text/x-python",
   "name": "python",
   "nbconvert_exporter": "python",
   "pygments_lexer": "ipython3",
   "version": "3.6.8"
  }
 },
 "nbformat": 4,
 "nbformat_minor": 2
}
